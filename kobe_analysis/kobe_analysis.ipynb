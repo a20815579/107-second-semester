{
 "cells": [
  {
   "cell_type": "code",
   "execution_count": 1,
   "metadata": {},
   "outputs": [],
   "source": [
    "import pandas as pd\n",
    "import itertools\n",
    "df = pd.read_csv('kobe.csv')"
   ]
  },
  {
   "cell_type": "code",
   "execution_count": 4,
   "metadata": {},
   "outputs": [
    {
     "name": "stdout",
     "output_type": "stream",
     "text": [
      "Kobe 對戰火箭隊(HOU)的平均兩分球與三分球命中率：\n",
      "2PT Field Goal: 0.388\n",
      "3PT Field Goal: 0.266\n"
     ]
    }
   ],
   "source": [
    "df1 = df.groupby('opponent').get_group('HOU')\n",
    "df2 = df1.groupby(['shot_type','shot_made_flag'])\n",
    "two_rate = len(df2.groups['2PT Field Goal',1])/(len(df2.groups['2PT Field Goal',0]) + len(df2.groups['2PT Field Goal',1]))\n",
    "three_rate = len(df2.groups['3PT Field Goal',1])/(len(df2.groups['3PT Field Goal',0]) + len(df2.groups['3PT Field Goal',1]))\n",
    "print('Kobe 對戰火箭隊(HOU)的平均兩分球與三分球命中率：')\n",
    "print('2PT Field Goal: %.3f' % two_rate)\n",
    "print('3PT Field Goal: %.3f' % three_rate)"
   ]
  },
  {
   "cell_type": "code",
   "execution_count": 15,
   "metadata": {},
   "outputs": [
    {
     "name": "stdout",
     "output_type": "stream",
     "text": [
      "Kobe 對戰過的球隊中，使得 Kobe 平均得分最低的前五支球隊與 Kobe 的平均得分：\n",
      "1 VAN 11.167\n",
      "2 BKN 12.667\n",
      "3 NJN 14.179\n",
      "4 MIL 14.613\n",
      "5 CLE 14.727\n"
     ]
    }
   ],
   "source": [
    "#將二分球三分球轉為數字，過濾有命中的，再計算與各隊的平均得分\n",
    "df1 = df.replace({'2PT Field Goal': 2,'3PT Field Goal': 3})\n",
    "df2 = df1.query('shot_made_flag == 1')\n",
    "df3 = df2.groupby('opponent')\n",
    "list1 = []\n",
    "for opponent,df4 in df3:\n",
    "    df5 = df4.groupby('game_id')\n",
    "    point = df4.sum()['shot_type']\n",
    "    list2 = [point/len(df5),opponent]\n",
    "    list1.append(list2)\n",
    "print('Kobe 對戰過的球隊中，使得 Kobe 平均得分最低的前五支球隊與 Kobe 的平均得分：')\n",
    "list1.sort()\n",
    "for i in range(5):\n",
    "    print(i+1,list1[i][1],'%.3f' % list1[i][0])"
   ]
  },
  {
   "cell_type": "code",
   "execution_count": 8,
   "metadata": {},
   "outputs": [
    {
     "name": "stdout",
     "output_type": "stream",
     "text": [
      "Kobe 在季後賽最後 3 分鐘內得分最高的前五場球賽與其得分：\n",
      "id = 49900074 , point = 9\n",
      "id = 40100234 , point = 8\n",
      "id = 49900024 , point = 7\n",
      "id = 40700402 , point = 7\n",
      "id = 49600024 , point = 6\n"
     ]
    }
   ],
   "source": [
    "#根據條件過濾，sort得分印出前三高\n",
    "df1 = df.query('minutes_remaining < 3 & period == 4 & shot_made_flag == 1 & playoffs == 1')\n",
    "df2 = df1.replace({'2PT Field Goal': 2,'3PT Field Goal': 3})\n",
    "df3 = df2.groupby('game_id').sum()\n",
    "df4 = df3.sort_values(by = 'shot_type',ascending = False)\n",
    "print('Kobe 在季後賽最後 3 分鐘內得分最高的前五場球賽與其得分：')\n",
    "for i in range(5):\n",
    "    print('id =',df4.index[i],',','point =',df4['shot_type'].iloc[i])"
   ]
  },
  {
   "cell_type": "code",
   "execution_count": 17,
   "metadata": {},
   "outputs": [
    {
     "name": "stdout",
     "output_type": "stream",
     "text": [
      "Kobe 各球季季後賽中，比賽最後 1 分鐘內的 Jump Shot 命中率（按球季先後排序）：\n",
      "1996-97 : 0.214\n",
      "1997-98 : 0.286\n",
      "1998-99 : 0.312\n",
      "1999-00 : 0.333\n",
      "Jan-00 : 0.324\n",
      "Feb-01 : 0.241\n",
      "Mar-02 : 0.257\n",
      "Apr-03 : 0.197\n",
      "Jun-05 : 0.400\n",
      "Jul-06 : 0.400\n",
      "Aug-07 : 0.326\n",
      "Sep-08 : 0.344\n",
      "Oct-09 : 0.328\n",
      "Nov-10 : 0.235\n",
      "Dec-11 : 0.267\n"
     ]
    }
   ],
   "source": [
    "#根據條件過濾，按照日期排序球季\n",
    "df1 = df.query('minutes_remaining < 1 & playoffs == 1')\n",
    "df2 = df1.sort_values(by = 'game_date')\n",
    "df3 = df2.groupby('season',sort = False)\n",
    "print('Kobe 各球季季後賽中，比賽最後 1 分鐘內的 Jump Shot 命中率（按球季先後排序）：')\n",
    "for game_date,df4 in df3:\n",
    "    df5 = df4.query('shot_made_flag == 1') \n",
    "    print(game_date,':','%.3f' % (df5.shape[0]/df4.shape[0]))"
   ]
  },
  {
   "cell_type": "code",
   "execution_count": 11,
   "metadata": {},
   "outputs": [
    {
     "name": "stdout",
     "output_type": "stream",
     "text": [
      "Kobe「得分命中率 33%以上的最長連續場數」前 3 名，其場數以及起訖日期：\n",
      "19 2000-02-01 ~ 2000-03-12\n",
      "19 2001-06-15 ~ 2001-12-07\n",
      "16 2002-01-14 ~ 2002-02-17\n"
     ]
    }
   ],
   "source": [
    "df1 = df.copy()\n",
    "df1['game_date'] = pd.to_datetime(df1['game_date'],errors='coerce')\n",
    "df2 = df1.query('shot_made_flag == 1')\n",
    "dict1 = df2.groupby('game_date').groups\n",
    "dict2 = df1.groupby('game_date').groups\n",
    "game_date_list = list(dict2.keys())\n",
    "hit_rate = []\n",
    "for game_date in dict2:\n",
    "    hit_rate1 = []\n",
    "    #整場都沒命中\n",
    "    if game_date not in dict1:\n",
    "        hit_rate1 = [game_date,0]\n",
    "    #命中除以沒命中\n",
    "    else:\n",
    "        hit_rate1 = [game_date,len(dict1[game_date])/len(dict2[game_date])]\n",
    "    hit_rate.append(hit_rate1)\n",
    "continue_dict = {}\n",
    "continue_time = 0\n",
    "#有連續得分率0.33以上就繼續加，沒有則連續次序歸零\n",
    "for i in range(1,len(hit_rate)):\n",
    "    if hit_rate[i][1] > 0.33:\n",
    "        continue_time += 1\n",
    "    elif continue_time > 0:\n",
    "        continue_dict[hit_rate[i-1][0]] = continue_time\n",
    "        continue_time = 0\n",
    "#印出連續最長次數前三\n",
    "print(\"Kobe「得分命中率 33%以上的最長連續場數」前 3 名，其場數以及起訖日期：\")\n",
    "for i in range(3):\n",
    "    max_continue = max(continue_dict.values())\n",
    "    for date in continue_dict:\n",
    "        if continue_dict[date] == max_continue:\n",
    "            last_date_index = game_date_list.index(date)\n",
    "            start_date = game_date_list[last_date_index-max_continue+1]\n",
    "            print(max_continue,start_date.strftime('%Y-%m-%d'),\"~\",date.strftime('%Y-%m-%d'))\n",
    "            del continue_dict[date]\n",
    "            break"
   ]
  },
  {
   "cell_type": "code",
   "execution_count": 18,
   "metadata": {},
   "outputs": [
    {
     "name": "stdout",
     "output_type": "stream",
     "text": [
      "Kobe「上半場得分多於下半場」且命中率最低的前 3 名場次，其日期、對手、上 下半場得分差、該場得分，按命中率由上而下排序\n",
      "0.100 2012/3/18 UTA 1 5 \n",
      "0.130 2004/4/6 POR 2 6 \n",
      "0.130 2012/11/23 MEM 2 8 \n"
     ]
    }
   ],
   "source": [
    "df['period'].replace({1:'first',2:'first',3:'second',4:'second'},inplace = True)\n",
    "df1 = df.query('period != 5')\n",
    "df2 = df1.replace({'2PT Field Goal': 2,'3PT Field Goal': 3})\n",
    "df3 = df2.groupby('game_date')\n",
    "list1 = []\n",
    "for game_date,df4 in df3:\n",
    "    df5 = df4.query('shot_made_flag == 1')\n",
    "    df6 = df5.groupby('period').sum()\n",
    "    if len(df6['shot_type']) > 1:\n",
    "        if df6['shot_type']['first'] > df6['shot_type']['second']:\n",
    "            difference = df6['shot_type']['first'] - df6['shot_type']['second']\n",
    "            score = df6['shot_type']['first'] + df6['shot_type']['second']\n",
    "            list2 = ['%.3f' % (df5.shape[0]/df4.shape[0]),game_date,df4['opponent'].iloc[0],difference,score]\n",
    "            list1.append(list2)\n",
    "print('Kobe「上半場得分多於下半場」且命中率最低的前 3 名場次，其日期、對手、上 下半場得分差、該場得分，按命中率由上而下排序')\n",
    "list1.sort()\n",
    "for i in range(3):\n",
    "    for j in range(5):\n",
    "        print(list1[i][j],end = ' ')\n",
    "    print()"
   ]
  },
  {
   "cell_type": "code",
   "execution_count": null,
   "metadata": {},
   "outputs": [],
   "source": []
  }
 ],
 "metadata": {
  "kernelspec": {
   "display_name": "Python 3",
   "language": "python",
   "name": "python3"
  },
  "language_info": {
   "codemirror_mode": {
    "name": "ipython",
    "version": 3
   },
   "file_extension": ".py",
   "mimetype": "text/x-python",
   "name": "python",
   "nbconvert_exporter": "python",
   "pygments_lexer": "ipython3",
   "version": "3.7.0"
  }
 },
 "nbformat": 4,
 "nbformat_minor": 2
}
